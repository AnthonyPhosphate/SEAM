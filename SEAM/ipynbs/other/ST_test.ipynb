{
 "cells": [
  {
   "cell_type": "markdown",
   "metadata": {},
   "source": [
    "# imports"
   ]
  },
  {
   "cell_type": "code",
   "execution_count": 2,
   "metadata": {},
   "outputs": [],
   "source": [
    "import numpy as np\n",
    "import pandas as pd\n",
    "import scanpy as sc\n",
    "import anndata as ad\n",
    "import matplotlib.pyplot as plt"
   ]
  },
  {
   "cell_type": "code",
   "execution_count": 3,
   "metadata": {},
   "outputs": [
    {
     "name": "stdout",
     "output_type": "stream",
     "text": [
      "scanpy==1.4.5.post1 anndata==0.6.22.post1 umap==0.3.10 numpy==1.16.2 scipy==1.4.1 pandas==0.23.4 scikit-learn==0.22.2.post1 statsmodels==0.11.0 python-igraph==0.7.1 louvain==0.6.1\n"
     ]
    }
   ],
   "source": [
    "sc.settings.verbosity = 3             # verbosity: errors (0), warnings (1), info (2), hints (3)\n",
    "sc.logging.print_versions()\n",
    "sc.settings.set_figure_params(dpi=80)"
   ]
  },
  {
   "cell_type": "code",
   "execution_count": 4,
   "metadata": {},
   "outputs": [],
   "source": [
    "%matplotlib widget\n",
    "# %matplotlib inline\n",
    "\n"
   ]
  },
  {
   "cell_type": "markdown",
   "metadata": {
    "toc-hr-collapsed": true,
    "toc-nb-collapsed": true
   },
   "source": [
    "# functions"
   ]
  },
  {
   "cell_type": "code",
   "execution_count": 5,
   "metadata": {},
   "outputs": [],
   "source": [
    "def load_ST(ST_name,p,region,region_label,ST_root='/home/yzy/PUBDT/st/Spatial_transcriptomics/Spatial_maps/'):\n",
    "    # read count\n",
    "    # g个基因，n个细胞，每一行是一个基因，前两列是ENSEMBL／gene；其后是按顺序的细胞\n",
    "    gene_list = []\n",
    "    ENSEMBL_list = []\n",
    "    cell_list = []\n",
    "    count_list = []\n",
    "    ST_count_file = ST_root+ST_name+'.count'\n",
    "\n",
    "    ST_index_file = ST_root+ST_name+'.idx'\n",
    "    spot_coor_dict = {}\n",
    "    spot_list = []\n",
    "    x_list = []\n",
    "    y_list = []\n",
    "    with open(ST_index_file) as f:\n",
    "        i=0\n",
    "        for line in f:\n",
    "            line = line.strip()\n",
    "            if i==0:\n",
    "\n",
    "                spot_list_pre = line.split('\\t')\n",
    "                spot_list = spot_list_pre[1:]\n",
    "            elif i==1:\n",
    "                x_list_pre = line.split('\\t')\n",
    "                x_list = x_list_pre[1:]\n",
    "                x_list = list(map(float,x_list))\n",
    "            elif i==2:\n",
    "                y_list_pre = line.split('\\t')\n",
    "                y_list = y_list_pre[1:]\n",
    "                y_list = list(map(float,y_list))\n",
    "            i+=1\n",
    "\n",
    "\n",
    "    spots_list = []\n",
    "    ENSEMBL_list = []\n",
    "    gene_list = []\n",
    "    count_list = []\n",
    "    print('111')\n",
    "    with open(ST_count_file,'r') as f:\n",
    "        i=0\n",
    "        for line in f:\n",
    "            line = str.strip(line)\n",
    "            line_sp = line.split('\\t')\n",
    "            if i==0:\n",
    "                spots_list = line_sp[2:]\n",
    "            else:\n",
    "                ENSEMBL_list.append(line_sp[0])\n",
    "                gene_list.append(line_sp[1])\n",
    "                count_list.append(line_sp[2:])\n",
    "            i+=1\n",
    "        # g*n\n",
    "    count_mat = np.array(count_list).astype('float32')\n",
    "\n",
    "\n",
    "\n",
    "    x_list = np.array(x_list).astype('float32')\n",
    "    y_list = np.array(y_list).astype('float32')\n",
    "\n",
    "    in_X = np.transpose(count_mat)\n",
    "    obs_name = spots_list\n",
    "    # g = map(str,range(in_X.shape[1]))\n",
    "    g = gene_list\n",
    "\n",
    "    obs = pd.DataFrame(index=obs_name)\n",
    "\n",
    "    # var_name must be str\n",
    "    var = pd.DataFrame(index=g)\n",
    "    # obs['barcode'] = np.array(index_list)\n",
    "    var['ENSEMBL'] = np.array(ENSEMBL_list)\n",
    "    # obs['true_labels'] = np.array(tenx_73k_label)\n",
    "    # obs['true_labels'] = obs['true_labels'].astype('category')\n",
    "    #     var['Genes'] = Genes\n",
    "    adata = ad.AnnData(in_X,  obs=obs,var=var, dtype='float32')\n",
    "    adata.obsm['spatial'] = np.concatenate((x_list.reshape(-1,1),y_list.reshape(-1,1)),axis=1)\n",
    "    adata.obs['spatial_x'] = x_list\n",
    "    adata.obs['spatial_y'] = y_list\n",
    "    adata.obs['p'] = p\n",
    "    adata.obs['p'] = adata.obs['p'].astype('category')\n",
    "    adata.obs['region'] = region\n",
    "    adata.obs['region'] = adata.obs['region'].astype('category')\n",
    "    adata.obs['region_label'] = region_label\n",
    "    return adata"
   ]
  },
  {
   "cell_type": "markdown",
   "metadata": {},
   "source": [
    "# data loading"
   ]
  },
  {
   "cell_type": "markdown",
   "metadata": {},
   "source": [
    "## ST"
   ]
  },
  {
   "cell_type": "code",
   "execution_count": 5,
   "metadata": {},
   "outputs": [
    {
     "name": "stdout",
     "output_type": "stream",
     "text": [
      "111\n"
     ]
    }
   ],
   "source": [
    "ST_root = '/home/yzy/PUBDT/st/Spatial_transcriptomics/Spatial_maps/'\n",
    "ST_name = 'P3.2'\n",
    "\n",
    "# read count\n",
    "# g个基因，n个细胞，每一行是一个基因，前两列是ENSEMBL／gene；其后是按顺序的细胞\n",
    "gene_list = []\n",
    "ENSEMBL_list = []\n",
    "cell_list = []\n",
    "count_list = []\n",
    "ST_count_file = ST_root+ST_name+'.count'\n",
    "\n",
    "ST_index_file = ST_root+ST_name+'.idx'\n",
    "spot_coor_dict = {}\n",
    "spot_list = []\n",
    "x_list = []\n",
    "y_list = []\n",
    "with open(ST_index_file) as f:\n",
    "    i=0\n",
    "    for line in f:\n",
    "        line = line.strip()\n",
    "        if i==0:\n",
    "            \n",
    "            spot_list_pre = line.split('\\t')\n",
    "            spot_list = spot_list_pre[1:]\n",
    "        elif i==1:\n",
    "            x_list_pre = line.split('\\t')\n",
    "            x_list = x_list_pre[1:]\n",
    "            x_list = list(map(float,x_list))\n",
    "        elif i==2:\n",
    "            y_list_pre = line.split('\\t')\n",
    "            y_list = y_list_pre[1:]\n",
    "            y_list = list(map(float,y_list))\n",
    "        i+=1\n",
    "\n",
    "\n",
    "spots_list = []\n",
    "ENSEMBL_list = []\n",
    "gene_list = []\n",
    "count_list = []\n",
    "print('111')\n",
    "with open(ST_count_file,'r') as f:\n",
    "    i=0\n",
    "    for line in f:\n",
    "        line = str.strip(line)\n",
    "        line_sp = line.split('\\t')\n",
    "        if i==0:\n",
    "            spots_list = line_sp[2:]\n",
    "        else:\n",
    "            ENSEMBL_list.append(line_sp[0])\n",
    "            gene_list.append(line_sp[1])\n",
    "            count_list.append(line_sp[2:])\n",
    "        i+=1\n",
    "# g*n\n",
    "count_mat = np.array(count_list).astype('float32')\n",
    "\n",
    "\n",
    "\n",
    "x_list = np.array(x_list).astype('float32')\n",
    "y_list = np.array(y_list).astype('float32')\n",
    "            "
   ]
  },
  {
   "cell_type": "code",
   "execution_count": 6,
   "metadata": {},
   "outputs": [],
   "source": [
    "in_X = np.transpose(count_mat)\n",
    "obs_name = spots_list\n",
    "# g = map(str,range(in_X.shape[1]))\n",
    "g = gene_list\n",
    "\n",
    "obs = pd.DataFrame(index=obs_name)\n",
    "\n",
    "# var_name must be str\n",
    "var = pd.DataFrame(index=g)\n",
    "# obs['barcode'] = np.array(index_list)\n",
    "var['ENSEMBL'] = np.array(ENSEMBL_list)\n",
    "# obs['true_labels'] = np.array(tenx_73k_label)\n",
    "# obs['true_labels'] = obs['true_labels'].astype('category')\n",
    "#     var['Genes'] = Genes\n",
    "adata = ad.AnnData(in_X,  obs=obs,var=var, dtype='float32')\n",
    "adata.obsm['spatial'] = np.concatenate((x_list.reshape(-1,1),y_list.reshape(-1,1)),axis=1)\n",
    "adata.obs['spatial_x'] = x_list\n",
    "adata.obs['spatial_y'] = y_list"
   ]
  },
  {
   "cell_type": "markdown",
   "metadata": {},
   "source": [
    "# data integration"
   ]
  },
  {
   "cell_type": "markdown",
   "metadata": {},
   "source": [
    "## data concat"
   ]
  },
  {
   "cell_type": "code",
   "execution_count": 6,
   "metadata": {},
   "outputs": [
    {
     "name": "stdout",
     "output_type": "stream",
     "text": [
      "111\n",
      "111\n",
      "111\n",
      "111\n",
      "111\n",
      "111\n",
      "111\n",
      "111\n",
      "111\n",
      "111\n",
      "111\n",
      "111\n"
     ]
    }
   ],
   "source": [
    "p_list = np.arange(4)+1\n",
    "# region_list = np.arange(3)+1\n",
    "adata_list = []\n",
    "region_label_dict = {\n",
    "    (1,1):'NG',\n",
    "    (1,2):'CG',\n",
    "    (1,3):'CG',\n",
    "    (2,1):'NG',\n",
    "    (2,3):'IF',\n",
    "    (2,4):'CG',\n",
    "    (3,1):'IF',\n",
    "    (3,2):'NG',\n",
    "    (3,3):'CG',\n",
    "    (4,1):'NG',\n",
    "    (4,2):'NG',\n",
    "    (4,3):'NG'\n",
    "}\n",
    "# e.g. p.region: P1.1\n",
    "for p in p_list:\n",
    "    if p==2:\n",
    "        region_list = [1,3,4]\n",
    "    else:\n",
    "        region_list = [1,2,3]\n",
    "    for region in region_list:\n",
    "        cur_region_label = region_label_dict[p,region]\n",
    "        cur_ST_name = 'P{0}.{1}'.format(p,region)\n",
    "        cur_adata = load_ST(cur_ST_name,p,region,cur_region_label)\n",
    "        adata_list.append(cur_adata)"
   ]
  },
  {
   "cell_type": "markdown",
   "metadata": {},
   "source": [
    "## 检查剩下的基因"
   ]
  },
  {
   "cell_type": "code",
   "execution_count": 28,
   "metadata": {},
   "outputs": [],
   "source": [
    "adata_list_check = [a.copy() for a in adata_list]"
   ]
  },
  {
   "cell_type": "code",
   "execution_count": 10,
   "metadata": {},
   "outputs": [],
   "source": [
    "adata_concat_check = adata_list_check[0].concatenate(adata_list_check[1:])"
   ]
  },
  {
   "cell_type": "code",
   "execution_count": 11,
   "metadata": {},
   "outputs": [],
   "source": [
    "adata_list_check_rg = [adata_concat_check[adata_concat_check.obs['batch']==str(i)] for i in range(12)]"
   ]
  },
  {
   "cell_type": "code",
   "execution_count": 47,
   "metadata": {},
   "outputs": [],
   "source": [
    "sc.pp.scale(adata_list_check[1])"
   ]
  },
  {
   "cell_type": "code",
   "execution_count": 23,
   "metadata": {},
   "outputs": [
    {
     "name": "stdout",
     "output_type": "stream",
     "text": [
      "running recipe zheng17\n",
      "normalizing counts per cell\n",
      "    finished (0:00:00)\n",
      "extracting highly variable genes\n",
      "    finished (0:00:00)\n",
      "normalizing counts per cell\n",
      "    finished (0:00:00)\n",
      "    finished (0:00:00)\n"
     ]
    }
   ],
   "source": [
    "sc.pp.recipe_zheng17(adata_list_check[0])"
   ]
  },
  {
   "cell_type": "code",
   "execution_count": 48,
   "metadata": {},
   "outputs": [
    {
     "name": "stdout",
     "output_type": "stream",
     "text": [
      "computing PCA with n_comps = 50\n",
      "    finished (0:00:00)\n",
      "computing neighbors\n",
      "    using 'X_pca' with n_pcs = 20\n",
      "    finished: added to `.uns['neighbors']`\n",
      "    'distances', distances for each pair of neighbors\n",
      "    'connectivities', weighted adjacency matrix (0:00:00)\n",
      "computing UMAP\n",
      "    finished: added\n",
      "    'X_umap', UMAP coordinates (adata.obsm) (0:00:01)\n",
      "running Leiden clustering\n",
      "    finished: found 6 clusters and added\n",
      "    'leiden', the cluster labels (adata.obs, categorical) (0:00:00)\n"
     ]
    }
   ],
   "source": [
    "sc.pp.pca(adata_list_check[1])\n",
    "sc.pp.neighbors(adata_list_check[1],n_pcs=20,n_neighbors=20)\n",
    "sc.tl.umap(adata_list_check[1])\n",
    "sc.tl.leiden(adata_list_check[1])"
   ]
  },
  {
   "cell_type": "code",
   "execution_count": 49,
   "metadata": {},
   "outputs": [
    {
     "name": "stderr",
     "output_type": "stream",
     "text": [
      "... storing 'region_label' as categorical\n"
     ]
    },
    {
     "data": {
      "application/vnd.jupyter.widget-view+json": {
       "model_id": "cfa2f0e8d35449259ee45606a9cca8ca",
       "version_major": 2,
       "version_minor": 0
      },
      "text/plain": [
       "Canvas(toolbar=Toolbar(toolitems=[('Home', 'Reset original view', 'home', 'home'), ('Back', 'Back to previous …"
      ]
     },
     "metadata": {},
     "output_type": "display_data"
    }
   ],
   "source": [
    "sc.pl.umap(adata_list_check[1],color='leiden')"
   ]
  },
  {
   "cell_type": "code",
   "execution_count": 50,
   "metadata": {},
   "outputs": [
    {
     "name": "stdout",
     "output_type": "stream",
     "text": [
      "computing PCA with n_comps = 50\n"
     ]
    },
    {
     "name": "stderr",
     "output_type": "stream",
     "text": [
      "/home/yzy/anaconda3/envs/pytorch/lib/python3.7/site-packages/scanpy/preprocessing/_simple.py:909: UserWarning: Revieved a view of an AnnData. Making a copy.\n",
      "  view_to_actual(adata)\n"
     ]
    },
    {
     "name": "stdout",
     "output_type": "stream",
     "text": [
      "    finished (0:00:00)\n",
      "computing neighbors\n",
      "    using 'X_pca' with n_pcs = 20\n",
      "    finished: added to `.uns['neighbors']`\n",
      "    'distances', distances for each pair of neighbors\n",
      "    'connectivities', weighted adjacency matrix (0:00:00)\n",
      "computing UMAP\n",
      "    finished: added\n",
      "    'X_umap', UMAP coordinates (adata.obsm) (0:00:01)\n",
      "running Leiden clustering\n",
      "    finished: found 6 clusters and added\n",
      "    'leiden', the cluster labels (adata.obs, categorical) (0:00:00)\n"
     ]
    }
   ],
   "source": [
    "sc.pp.scale(adata_list_check_rg[1])\n",
    "sc.pp.pca(adata_list_check_rg[1])\n",
    "sc.pp.neighbors(adata_list_check_rg[1],n_pcs=20,n_neighbors=20)\n",
    "sc.tl.umap(adata_list_check_rg[1])\n",
    "sc.tl.leiden(adata_list_check_rg[1])"
   ]
  },
  {
   "cell_type": "code",
   "execution_count": 51,
   "metadata": {},
   "outputs": [],
   "source": [
    "adata_list_check_rg[1].obs['leiden_ori'] = np.array(adata_list_check[1].obs['leiden'])"
   ]
  },
  {
   "cell_type": "code",
   "execution_count": 45,
   "metadata": {},
   "outputs": [
    {
     "data": {
      "text/plain": [
       "<matplotlib.axes._subplots.AxesSubplot at 0x7f2675471450>"
      ]
     },
     "execution_count": 45,
     "metadata": {},
     "output_type": "execute_result"
    }
   ],
   "source": []
  },
  {
   "cell_type": "code",
   "execution_count": 52,
   "metadata": {},
   "outputs": [
    {
     "name": "stderr",
     "output_type": "stream",
     "text": [
      "... storing 'region_label' as categorical\n",
      "... storing 'leiden_ori' as categorical\n"
     ]
    },
    {
     "data": {
      "application/vnd.jupyter.widget-view+json": {
       "model_id": "c94c7e82025943388d2097d2007aaa4c",
       "version_major": 2,
       "version_minor": 0
      },
      "text/plain": [
       "Canvas(toolbar=Toolbar(toolitems=[('Home', 'Reset original view', 'home', 'home'), ('Back', 'Back to previous …"
      ]
     },
     "metadata": {},
     "output_type": "display_data"
    }
   ],
   "source": [
    "# fig,ax = plt.subplots(1,1,figsize=(10,5))\n",
    "sc.pl.umap(adata_list_check_rg[1],color=['leiden','leiden_ori'])"
   ]
  },
  {
   "cell_type": "code",
   "execution_count": 68,
   "metadata": {},
   "outputs": [
    {
     "name": "stderr",
     "output_type": "stream",
     "text": [
      "/home/yzy/.local/lib/python3.7/site-packages/matplotlib/pyplot.py:514: RuntimeWarning: More than 20 figures have been opened. Figures created through the pyplot interface (`matplotlib.pyplot.figure`) are retained until explicitly closed and may consume too much memory. (To control this warning, see the rcParam `figure.max_open_warning`).\n",
      "  max_open_warning, RuntimeWarning)\n"
     ]
    },
    {
     "data": {
      "application/vnd.jupyter.widget-view+json": {
       "model_id": "3847eabfc93a4b9ea0a388eecbd43e0c",
       "version_major": 2,
       "version_minor": 0
      },
      "text/plain": [
       "Canvas(toolbar=Toolbar(toolitems=[('Home', 'Reset original view', 'home', 'home'), ('Back', 'Back to previous …"
      ]
     },
     "metadata": {},
     "output_type": "display_data"
    }
   ],
   "source": [
    "fig,axes = plt.subplots(1,2,figsize=(10,5))\n",
    "sc.pl.scatter(adata_list_check[1],x='spatial_x',y='spatial_y',color='SPINK1',ax=axes[0])\n",
    "sc.pl.scatter(adata_list_check_rg[1],x='spatial_x',y='spatial_y',color='leiden',ax=axes[1])"
   ]
  },
  {
   "cell_type": "code",
   "execution_count": 62,
   "metadata": {},
   "outputs": [
    {
     "name": "stdout",
     "output_type": "stream",
     "text": [
      "ranking genes\n",
      "    finished: added to `.uns['rank_genes_groups']`\n",
      "    'names', sorted np.recarray to be indexed by group ids\n",
      "    'scores', sorted np.recarray to be indexed by group ids\n",
      " (0:00:01)\n"
     ]
    },
    {
     "name": "stderr",
     "output_type": "stream",
     "text": [
      "/home/yzy/anaconda3/envs/pytorch/lib/python3.7/site-packages/sklearn/linear_model/_logistic.py:940: ConvergenceWarning: lbfgs failed to converge (status=1):\n",
      "STOP: TOTAL NO. of ITERATIONS REACHED LIMIT.\n",
      "\n",
      "Increase the number of iterations (max_iter) or scale the data as shown in:\n",
      "    https://scikit-learn.org/stable/modules/preprocessing.html\n",
      "Please also refer to the documentation for alternative solver options:\n",
      "    https://scikit-learn.org/stable/modules/linear_model.html#logistic-regression\n",
      "  extra_warning_msg=_LOGISTIC_SOLVER_CONVERGENCE_MSG)\n"
     ]
    }
   ],
   "source": [
    "sc.tl.rank_genes_groups(adata_list_check_rg[1],groupby='leiden',method='logreg')"
   ]
  },
  {
   "cell_type": "code",
   "execution_count": 63,
   "metadata": {},
   "outputs": [
    {
     "name": "stderr",
     "output_type": "stream",
     "text": [
      "/home/yzy/.local/lib/python3.7/site-packages/matplotlib/pyplot.py:514: RuntimeWarning: More than 20 figures have been opened. Figures created through the pyplot interface (`matplotlib.pyplot.figure`) are retained until explicitly closed and may consume too much memory. (To control this warning, see the rcParam `figure.max_open_warning`).\n",
      "  max_open_warning, RuntimeWarning)\n"
     ]
    },
    {
     "data": {
      "application/vnd.jupyter.widget-view+json": {
       "model_id": "0ef76af73394491ebc01bc74ed1e1f86",
       "version_major": 2,
       "version_minor": 0
      },
      "text/plain": [
       "Canvas(toolbar=Toolbar(toolitems=[('Home', 'Reset original view', 'home', 'home'), ('Back', 'Back to previous …"
      ]
     },
     "metadata": {},
     "output_type": "display_data"
    }
   ],
   "source": [
    "sc.pl.rank_genes_groups_heatmap(adata_list_check_rg[1],cmap='bwr',standard_scale='var',n_genes=5)"
   ]
  },
  {
   "cell_type": "markdown",
   "metadata": {
    "toc-hr-collapsed": true,
    "toc-nb-collapsed": true
   },
   "source": [
    "## bbknn"
   ]
  },
  {
   "cell_type": "code",
   "execution_count": 180,
   "metadata": {},
   "outputs": [],
   "source": [
    "adata_list_bbknn = [a.copy() for a in adata_list]"
   ]
  },
  {
   "cell_type": "code",
   "execution_count": 181,
   "metadata": {},
   "outputs": [],
   "source": [
    "adata_concat_bbknn = adata_list_bbknn[0].concatenate(adata_list_bbknn[1:])"
   ]
  },
  {
   "cell_type": "code",
   "execution_count": 182,
   "metadata": {},
   "outputs": [
    {
     "name": "stdout",
     "output_type": "stream",
     "text": [
      "running recipe zheng17\n",
      "normalizing counts per cell\n",
      "WARNING: Some cells have total count of genes equal to zero\n",
      "    finished (0:00:00)\n",
      "extracting highly variable genes\n",
      "    finished (0:00:00)\n",
      "normalizing counts per cell\n",
      "WARNING: Some cells have total count of genes equal to zero\n",
      "    finished (0:00:00)\n",
      "    finished (0:00:00)\n"
     ]
    }
   ],
   "source": [
    "sc.pp.recipe_zheng17(adata_concat_bbknn)"
   ]
  },
  {
   "cell_type": "code",
   "execution_count": 183,
   "metadata": {},
   "outputs": [
    {
     "name": "stdout",
     "output_type": "stream",
     "text": [
      "computing PCA with n_comps = 50\n",
      "    finished (0:00:00)\n",
      "computing neighbors\n",
      "    using 'X_pca' with n_pcs = 20\n",
      "    finished: added to `.uns['neighbors']`\n",
      "    'distances', distances for each pair of neighbors\n",
      "    'connectivities', weighted adjacency matrix (0:00:01)\n",
      "computing UMAP\n",
      "    finished: added\n",
      "    'X_umap', UMAP coordinates (adata.obsm) (0:00:16)\n",
      "running Louvain clustering\n",
      "    using the \"louvain\" package of Traag (2017)\n",
      "    finished: found 11 clusters and added\n",
      "    'louvain', the cluster labels (adata.obs, categorical) (0:00:00)\n",
      "running Leiden clustering\n",
      "    finished: found 11 clusters and added\n",
      "    'leiden', the cluster labels (adata.obs, categorical) (0:00:01)\n"
     ]
    }
   ],
   "source": [
    "# before bbknn\n",
    "sc.pp.pca(adata_concat_bbknn)\n",
    "sc.pp.neighbors(adata_concat_bbknn,n_pcs=20,n_neighbors=20)\n",
    "sc.tl.umap(adata_concat_bbknn)\n",
    "sc.tl.louvain(adata_concat_bbknn)\n",
    "sc.tl.leiden(adata_concat_bbknn)"
   ]
  },
  {
   "cell_type": "code",
   "execution_count": 184,
   "metadata": {},
   "outputs": [
    {
     "name": "stderr",
     "output_type": "stream",
     "text": [
      "... storing 'region_label' as categorical\n",
      "/home/yzy/.local/lib/python3.7/site-packages/matplotlib/pyplot.py:514: RuntimeWarning: More than 20 figures have been opened. Figures created through the pyplot interface (`matplotlib.pyplot.figure`) are retained until explicitly closed and may consume too much memory. (To control this warning, see the rcParam `figure.max_open_warning`).\n",
      "  max_open_warning, RuntimeWarning)\n"
     ]
    },
    {
     "data": {
      "application/vnd.jupyter.widget-view+json": {
       "model_id": "0f166644c6d949829b85f3c1b85ed101",
       "version_major": 2,
       "version_minor": 0
      },
      "text/plain": [
       "Canvas(toolbar=Toolbar(toolitems=[('Home', 'Reset original view', 'home', 'home'), ('Back', 'Back to previous …"
      ]
     },
     "metadata": {},
     "output_type": "display_data"
    }
   ],
   "source": [
    "sc.pl.umap(adata_concat_bbknn,color=['leiden','p','region_label','batch'])"
   ]
  },
  {
   "cell_type": "code",
   "execution_count": 185,
   "metadata": {},
   "outputs": [
    {
     "name": "stdout",
     "output_type": "stream",
     "text": [
      "computing batch balanced neighbors\n",
      "\tfinished: added to `.uns['neighbors']`\n",
      "\t'distances', weighted adjacency matrix\n",
      "\t'connectivities', weighted adjacency matrix (0:00:01)\n"
     ]
    }
   ],
   "source": [
    "sc.external.pp.bbknn(adata_concat_bbknn, batch_key='batch')"
   ]
  },
  {
   "cell_type": "code",
   "execution_count": 1,
   "metadata": {},
   "outputs": [
    {
     "data": {
      "text/plain": [
       "2"
      ]
     },
     "execution_count": 1,
     "metadata": {},
     "output_type": "execute_result"
    }
   ],
   "source": [
    "1+1"
   ]
  },
  {
   "cell_type": "code",
   "execution_count": 186,
   "metadata": {},
   "outputs": [
    {
     "name": "stdout",
     "output_type": "stream",
     "text": [
      "computing UMAP\n",
      "    finished: added\n",
      "    'X_umap', UMAP coordinates (adata.obsm) (0:00:20)\n",
      "running Leiden clustering\n",
      "    finished: found 7 clusters and added\n",
      "    'leiden', the cluster labels (adata.obs, categorical) (0:00:02)\n"
     ]
    }
   ],
   "source": [
    "sc.tl.umap(adata_concat_bbknn)\n",
    "sc.tl.leiden(adata_concat_bbknn)"
   ]
  },
  {
   "cell_type": "code",
   "execution_count": 198,
   "metadata": {},
   "outputs": [
    {
     "name": "stderr",
     "output_type": "stream",
     "text": [
      "/home/yzy/.local/lib/python3.7/site-packages/matplotlib/pyplot.py:514: RuntimeWarning: More than 20 figures have been opened. Figures created through the pyplot interface (`matplotlib.pyplot.figure`) are retained until explicitly closed and may consume too much memory. (To control this warning, see the rcParam `figure.max_open_warning`).\n",
      "  max_open_warning, RuntimeWarning)\n"
     ]
    },
    {
     "data": {
      "application/vnd.jupyter.widget-view+json": {
       "model_id": "0de89b646c6140adb6074243a42c08cb",
       "version_major": 2,
       "version_minor": 0
      },
      "text/plain": [
       "Canvas(toolbar=Toolbar(toolitems=[('Home', 'Reset original view', 'home', 'home'), ('Back', 'Back to previous …"
      ]
     },
     "metadata": {},
     "output_type": "display_data"
    }
   ],
   "source": [
    "sc.pl.umap(adata_concat_bbknn,color='batch',groups='11')"
   ]
  },
  {
   "cell_type": "code",
   "execution_count": 187,
   "metadata": {},
   "outputs": [
    {
     "name": "stderr",
     "output_type": "stream",
     "text": [
      "/home/yzy/.local/lib/python3.7/site-packages/matplotlib/pyplot.py:514: RuntimeWarning: More than 20 figures have been opened. Figures created through the pyplot interface (`matplotlib.pyplot.figure`) are retained until explicitly closed and may consume too much memory. (To control this warning, see the rcParam `figure.max_open_warning`).\n",
      "  max_open_warning, RuntimeWarning)\n"
     ]
    },
    {
     "data": {
      "application/vnd.jupyter.widget-view+json": {
       "model_id": "1ede75eb15b34d3a8b72a69255577a72",
       "version_major": 2,
       "version_minor": 0
      },
      "text/plain": [
       "Canvas(toolbar=Toolbar(toolitems=[('Home', 'Reset original view', 'home', 'home'), ('Back', 'Back to previous …"
      ]
     },
     "metadata": {},
     "output_type": "display_data"
    }
   ],
   "source": [
    "sc.pl.umap(adata_concat_bbknn,color=['leiden','p','region_label','batch'])"
   ]
  },
  {
   "cell_type": "markdown",
   "metadata": {},
   "source": [
    "## scanorama"
   ]
  },
  {
   "cell_type": "code",
   "execution_count": 130,
   "metadata": {},
   "outputs": [],
   "source": [
    "adata_list_scanorama = [a.copy() for a in adata_list]"
   ]
  },
  {
   "cell_type": "code",
   "execution_count": 131,
   "metadata": {},
   "outputs": [
    {
     "name": "stdout",
     "output_type": "stream",
     "text": [
      "Found 4121 genes among all datasets\n",
      "[[0.         0.02216749 0.08796296 0.15904936 0.35196687 0.28472222\n",
      "  0.07017544 0.13194444 0.00462963 0.62268519 0.02546296 0.02980132]\n",
      " [0.         0.         0.49261084 0.33743842 0.02955665 0.13300493\n",
      "  0.04679803 0.         0.02463054 0.00985222 0.00308642 0.07389163]\n",
      " [0.         0.         0.         0.42230347 0.26501035 0.35044643\n",
      "  0.02232855 0.36711281 0.32135729 0.02034884 0.05864198 0.21523179]\n",
      " [0.         0.         0.         0.         0.01449275 0.11151737\n",
      "  0.14990859 0.01147228 0.02195609 0.03290676 0.0154321  0.03107861]\n",
      " [0.         0.         0.         0.         0.         0.35403727\n",
      "  0.05175983 0.36438923 0.11387164 0.31677019 0.04012346 0.3126294 ]\n",
      " [0.         0.         0.         0.         0.         0.\n",
      "  0.00223214 0.41071429 0.1497006  0.140625   0.00617284 0.22847682]\n",
      " [0.         0.         0.         0.         0.         0.\n",
      "  0.         0.01338432 0.00399202 0.33173844 0.37345679 0.01324503]\n",
      " [0.         0.         0.         0.         0.         0.\n",
      "  0.         0.         0.04015296 0.11281071 0.08641975 0.73178808]\n",
      " [0.         0.         0.         0.         0.         0.\n",
      "  0.         0.         0.         0.03633721 0.03395062 0.06622517]\n",
      " [0.         0.         0.         0.         0.         0.\n",
      "  0.         0.         0.         0.         0.02777778 0.19536424]\n",
      " [0.         0.         0.         0.         0.         0.\n",
      "  0.         0.         0.         0.         0.         0.16358025]\n",
      " [0.         0.         0.         0.         0.         0.\n",
      "  0.         0.         0.         0.         0.         0.        ]]\n",
      "Processing datasets (7, 11)\n",
      "Processing datasets (0, 9)\n",
      "Processing datasets (1, 2)\n",
      "Processing datasets (2, 3)\n",
      "Processing datasets (5, 7)\n",
      "Processing datasets (6, 10)\n",
      "Processing datasets (2, 7)\n",
      "Processing datasets (4, 7)\n",
      "Processing datasets (4, 5)\n",
      "Processing datasets (0, 4)\n",
      "Processing datasets (2, 5)\n",
      "Processing datasets (1, 3)\n",
      "Processing datasets (6, 9)\n",
      "Processing datasets (2, 8)\n",
      "Processing datasets (4, 9)\n",
      "Processing datasets (4, 11)\n",
      "Processing datasets (0, 5)\n",
      "Processing datasets (2, 4)\n",
      "Processing datasets (5, 11)\n",
      "Processing datasets (2, 11)\n",
      "Processing datasets (9, 11)\n",
      "Processing datasets (10, 11)\n",
      "Processing datasets (0, 3)\n",
      "Processing datasets (3, 6)\n",
      "Processing datasets (5, 8)\n",
      "Processing datasets (5, 9)\n",
      "Processing datasets (1, 5)\n",
      "Processing datasets (0, 7)\n",
      "Processing datasets (4, 8)\n",
      "Processing datasets (7, 9)\n",
      "Processing datasets (3, 5)\n"
     ]
    }
   ],
   "source": [
    "import scanorama\n",
    "\n",
    "# # Integration.\n",
    "# integrated = scanorama.integrate_scanpy(adata_list_scanorama)\n",
    "\n",
    "# # Batch correction.\n",
    "# corrected = scanorama.correct_scanpy(adata_list)\n",
    "\n",
    "# Integration and batch correction.\n",
    "integrated, corrected = scanorama.correct_scanpy(adata_list_scanorama, return_dimred=True)"
   ]
  },
  {
   "cell_type": "code",
   "execution_count": 132,
   "metadata": {},
   "outputs": [],
   "source": [
    "adata_concat_scanorama = corrected[0].concatenate(corrected[1:])"
   ]
  },
  {
   "cell_type": "code",
   "execution_count": 133,
   "metadata": {},
   "outputs": [
    {
     "name": "stdout",
     "output_type": "stream",
     "text": [
      "computing PCA with n_comps = 50\n",
      "    finished (0:00:02)\n",
      "computing neighbors\n",
      "    using 'X_pca' with n_pcs = 50\n",
      "    finished: added to `.uns['neighbors']`\n",
      "    'distances', distances for each pair of neighbors\n",
      "    'connectivities', weighted adjacency matrix (0:00:00)\n",
      "computing UMAP\n",
      "    finished: added\n",
      "    'X_umap', UMAP coordinates (adata.obsm) (0:00:14)\n",
      "running Leiden clustering\n",
      "    finished: found 18 clusters and added\n",
      "    'leiden', the cluster labels (adata.obs, categorical) (0:00:00)\n"
     ]
    }
   ],
   "source": [
    "sc.pp.pca(adata_concat_scanorama)\n",
    "sc.pp.neighbors(adata_concat_scanorama)\n",
    "sc.tl.umap(adata_concat_scanorama)\n",
    "sc.tl.leiden(adata_concat_scanorama)"
   ]
  },
  {
   "cell_type": "code",
   "execution_count": 137,
   "metadata": {},
   "outputs": [],
   "source": [
    "# adata_concat_scanorama.obs['region_label'] =adata_concat_bbknn.obs['region_label']"
   ]
  },
  {
   "cell_type": "code",
   "execution_count": 139,
   "metadata": {},
   "outputs": [],
   "source": [
    "adata_concat_scanorama.obs['region_label'] =np.array(adata_concat_bbknn.obs['region_label'])"
   ]
  },
  {
   "cell_type": "code",
   "execution_count": 152,
   "metadata": {},
   "outputs": [],
   "source": [
    "adata_concat_scanorama.obs['spatial_x'] = np.array(adata_concat_bbknn.obs['spatial_x'])\n",
    "adata_concat_scanorama.obs['spatial_y'] = np.array(adata_concat_bbknn.obs['spatial_y'])"
   ]
  },
  {
   "cell_type": "code",
   "execution_count": 1,
   "metadata": {},
   "outputs": [
    {
     "data": {
      "text/plain": [
       "2"
      ]
     },
     "execution_count": 1,
     "metadata": {},
     "output_type": "execute_result"
    }
   ],
   "source": [
    "1+1"
   ]
  },
  {
   "cell_type": "code",
   "execution_count": 166,
   "metadata": {},
   "outputs": [
    {
     "name": "stderr",
     "output_type": "stream",
     "text": [
      "/home/yzy/.local/lib/python3.7/site-packages/matplotlib/pyplot.py:514: RuntimeWarning: More than 20 figures have been opened. Figures created through the pyplot interface (`matplotlib.pyplot.figure`) are retained until explicitly closed and may consume too much memory. (To control this warning, see the rcParam `figure.max_open_warning`).\n",
      "  max_open_warning, RuntimeWarning)\n"
     ]
    },
    {
     "data": {
      "application/vnd.jupyter.widget-view+json": {
       "model_id": "e83681a0f130420b86d6daba8364e1bb",
       "version_major": 2,
       "version_minor": 0
      },
      "text/plain": [
       "Canvas(toolbar=Toolbar(toolitems=[('Home', 'Reset original view', 'home', 'home'), ('Back', 'Back to previous …"
      ]
     },
     "metadata": {},
     "output_type": "display_data"
    }
   ],
   "source": [
    "fig,axes = plt.subplots(4,3)\n",
    "k = 0\n",
    "for i in range(4):\n",
    "    for j in range(3):\n",
    "        sc.pl.scatter(adata_concat_scanorama[adata_concat_scanorama.obs['batch']==str(k)],\n",
    "                      x='spatial_x',y='spatial_y',color='leiden',ax=axes[i][j],size=30,legend_loc='none')        \n",
    "        k+=1\n",
    "# sc.pl.scatter(adata_concat_scanorama[adata_concat_scanorama.obs['batch']=='2'],x='spatial_x',y='spatial_y',color='leiden')"
   ]
  },
  {
   "cell_type": "code",
   "execution_count": 145,
   "metadata": {},
   "outputs": [
    {
     "data": {
      "application/vnd.jupyter.widget-view+json": {
       "model_id": "650393127ac3454cac80a5191b7d73a9",
       "version_major": 2,
       "version_minor": 0
      },
      "text/plain": [
       "Canvas(toolbar=Toolbar(toolitems=[('Home', 'Reset original view', 'home', 'home'), ('Back', 'Back to previous …"
      ]
     },
     "metadata": {},
     "output_type": "display_data"
    }
   ],
   "source": [
    "sc.pl.umap(adata_concat_scanorama,color='batch',groups='2')"
   ]
  },
  {
   "cell_type": "code",
   "execution_count": 141,
   "metadata": {},
   "outputs": [
    {
     "name": "stderr",
     "output_type": "stream",
     "text": [
      "... storing 'region_label' as categorical\n"
     ]
    },
    {
     "data": {
      "application/vnd.jupyter.widget-view+json": {
       "model_id": "f4581a27c50f487f914742d648eae013",
       "version_major": 2,
       "version_minor": 0
      },
      "text/plain": [
       "Canvas(toolbar=Toolbar(toolitems=[('Home', 'Reset original view', 'home', 'home'), ('Back', 'Back to previous …"
      ]
     },
     "metadata": {},
     "output_type": "display_data"
    }
   ],
   "source": [
    "sc.pl.umap(adata_concat_scanorama,color=['leiden','region_label','batch'])"
   ]
  },
  {
   "cell_type": "markdown",
   "metadata": {},
   "source": [
    "## mnn"
   ]
  },
  {
   "cell_type": "markdown",
   "metadata": {},
   "source": [
    "## ingest"
   ]
  },
  {
   "cell_type": "code",
   "execution_count": null,
   "metadata": {},
   "outputs": [],
   "source": []
  },
  {
   "cell_type": "code",
   "execution_count": null,
   "metadata": {},
   "outputs": [],
   "source": []
  },
  {
   "cell_type": "code",
   "execution_count": null,
   "metadata": {},
   "outputs": [],
   "source": []
  },
  {
   "cell_type": "code",
   "execution_count": null,
   "metadata": {
    "toc-hr-collapsed": true,
    "toc-nb-collapsed": true
   },
   "outputs": [],
   "source": [
    "## bbknn"
   ]
  },
  {
   "cell_type": "code",
   "execution_count": null,
   "metadata": {},
   "outputs": [],
   "source": []
  },
  {
   "cell_type": "code",
   "execution_count": null,
   "metadata": {},
   "outputs": [],
   "source": []
  },
  {
   "cell_type": "code",
   "execution_count": null,
   "metadata": {},
   "outputs": [],
   "source": []
  },
  {
   "cell_type": "code",
   "execution_count": null,
   "metadata": {},
   "outputs": [],
   "source": []
  },
  {
   "cell_type": "code",
   "execution_count": null,
   "metadata": {},
   "outputs": [],
   "source": []
  },
  {
   "cell_type": "markdown",
   "metadata": {
    "toc-hr-collapsed": true,
    "toc-nb-collapsed": true
   },
   "source": [
    "# tmp"
   ]
  },
  {
   "cell_type": "code",
   "execution_count": 7,
   "metadata": {},
   "outputs": [],
   "source": [
    "sc.pp.scale(adata)\n",
    "sc.tl.pca(adata, svd_solver='arpack')\n",
    "sc.pp.neighbors(adata, n_neighbors=10, n_pcs=40)\n",
    "sc.tl.umap(adata)\n",
    "sc.tl.louvain(adata)"
   ]
  },
  {
   "cell_type": "code",
   "execution_count": 10,
   "metadata": {},
   "outputs": [],
   "source": [
    "sc.tl.leiden(adata)"
   ]
  },
  {
   "cell_type": "code",
   "execution_count": 15,
   "metadata": {},
   "outputs": [
    {
     "data": {
      "application/vnd.jupyter.widget-view+json": {
       "model_id": "992878d1342642128cb55f1077ceb879",
       "version_major": 2,
       "version_minor": 0
      },
      "text/plain": [
       "Canvas(toolbar=Toolbar(toolitems=[('Home', 'Reset original view', 'home', 'home'), ('Back', 'Back to previous …"
      ]
     },
     "metadata": {},
     "output_type": "display_data"
    }
   ],
   "source": [
    "sc.pl.umap(adata,color=['louvain','leiden'])\n",
    "# plt.show()"
   ]
  },
  {
   "cell_type": "code",
   "execution_count": 16,
   "metadata": {},
   "outputs": [
    {
     "name": "stdout",
     "output_type": "stream",
     "text": [
      "running PAGA\n",
      "    finished: added\n",
      "    'paga/connectivities', connectivities adjacency (adata.uns)\n",
      "    'paga/connectivities_tree', connectivities subtree (adata.uns) (0:00:00)\n"
     ]
    }
   ],
   "source": [
    "sc.tl.paga(adata, groups='louvain')"
   ]
  },
  {
   "cell_type": "code",
   "execution_count": 22,
   "metadata": {},
   "outputs": [
    {
     "name": "stdout",
     "output_type": "stream",
     "text": [
      "--> added 'pos', the PAGA positions (adata.uns['paga'])\n"
     ]
    }
   ],
   "source": [
    "sc.pl.paga(adata, color=['louvain', 'leiden'])"
   ]
  },
  {
   "cell_type": "code",
   "execution_count": 18,
   "metadata": {},
   "outputs": [
    {
     "data": {
      "text/plain": [
       "<function scanpy.tools._ingest.ingest(adata: anndata.core.anndata.AnnData, adata_ref: anndata.core.anndata.AnnData, obs: Union[str, Iterable[str], NoneType] = None, embedding_method: Union[str, Iterable[str]] = ['umap', 'pca'], labeling_method: str = 'knn', inplace: bool = True, **kwargs)>"
      ]
     },
     "execution_count": 18,
     "metadata": {},
     "output_type": "execute_result"
    }
   ],
   "source": [
    "sc.tl.ingest"
   ]
  },
  {
   "cell_type": "code",
   "execution_count": 19,
   "metadata": {},
   "outputs": [
    {
     "name": "stderr",
     "output_type": "stream",
     "text": [
      "/home/yzy/anaconda3/envs/pytorch/lib/python3.7/site-packages/sklearn/externals/six.py:31: FutureWarning: The module is deprecated in version 0.21 and will be removed in version 0.23 since we've dropped support for Python 2.7. Please rely on the official version of six (https://pypi.org/project/six/).\n",
      "  \"(https://pypi.org/project/six/).\", FutureWarning)\n"
     ]
    }
   ],
   "source": [
    "import scanorama"
   ]
  },
  {
   "cell_type": "code",
   "execution_count": 20,
   "metadata": {},
   "outputs": [
    {
     "name": "stdout",
     "output_type": "stream",
     "text": [
      "computing density on 'umap'\n",
      "--> added\n",
      "    'umap_density', densities (adata.obs)\n",
      "    'umap_density_params', parameter (adata.uns)\n"
     ]
    }
   ],
   "source": [
    "sc.tl.embedding_density(adata)\n",
    "sc.pl.embedding_density(adata)"
   ]
  },
  {
   "cell_type": "code",
   "execution_count": 24,
   "metadata": {},
   "outputs": [
    {
     "data": {
      "application/vnd.jupyter.widget-view+json": {
       "model_id": "90ef376fd79344fd999ddbd7e209df29",
       "version_major": 2,
       "version_minor": 0
      },
      "text/plain": [
       "Canvas(toolbar=Toolbar(toolitems=[('Home', 'Reset original view', 'home', 'home'), ('Back', 'Back to previous …"
      ]
     },
     "metadata": {},
     "output_type": "display_data"
    }
   ],
   "source": [
    "sc.pl.embedding_density(adata)"
   ]
  },
  {
   "cell_type": "code",
   "execution_count": null,
   "metadata": {},
   "outputs": [],
   "source": []
  }
 ],
 "metadata": {
  "kernelspec": {
   "display_name": "Python (pytorch)",
   "language": "python",
   "name": "pytorch"
  },
  "language_info": {
   "codemirror_mode": {
    "name": "ipython",
    "version": 3
   },
   "file_extension": ".py",
   "mimetype": "text/x-python",
   "name": "python",
   "nbconvert_exporter": "python",
   "pygments_lexer": "ipython3",
   "version": "3.7.5"
  },
  "toc-autonumbering": true,
  "toc-showcode": false,
  "toc-showmarkdowntxt": true,
  "toc-showtags": true
 },
 "nbformat": 4,
 "nbformat_minor": 4
}
