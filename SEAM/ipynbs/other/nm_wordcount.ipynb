{
 "cells": [
  {
   "cell_type": "code",
   "execution_count": 2,
   "metadata": {},
   "outputs": [],
   "source": [
    "import seaborn as sns\n",
    "import pandas as pd\n",
    "import numpy as np\n",
    "import matplotlib.pyplot as plt"
   ]
  },
  {
   "cell_type": "code",
   "execution_count": 3,
   "metadata": {},
   "outputs": [],
   "source": [
    "%matplotlib widget"
   ]
  },
  {
   "cell_type": "code",
   "execution_count": 1,
   "metadata": {},
   "outputs": [
    {
     "data": {
      "text/plain": [
       "2"
      ]
     },
     "execution_count": 1,
     "metadata": {},
     "output_type": "execute_result"
    }
   ],
   "source": [
    "1+1"
   ]
  },
  {
   "cell_type": "code",
   "execution_count": 44,
   "metadata": {},
   "outputs": [],
   "source": [
    "pd_dict = {\n",
    "    'type':[],\n",
    "    'count':[],\n",
    "    'paper':[]\n",
    "}"
   ]
  },
  {
   "cell_type": "code",
   "execution_count": 32,
   "metadata": {},
   "outputs": [],
   "source": [
    "abs_list = [149,155,159,142,159,153,159,88,157,159,152,158,153,160,151,153,151,151]\n",
    "intro_list = [598,440,544,641,489,465,741,663,640,315,271,340,688,300,544,312,251,492]\n",
    "disc_list = [564,352,959,272,463,521,320,211,796,248,733,645,577,372,118,406,217,547]\n"
   ]
  },
  {
   "cell_type": "code",
   "execution_count": 45,
   "metadata": {},
   "outputs": [],
   "source": [
    "abs_list = [149,155,159,142,159,153,159,88,157,159,152,158,153,160,151,153,151,151]\n",
    "intro_list = [598,440,544,641,489,465,741,663,640,315,271,340,688,300,544,312,492,251]\n",
    "disc_list = [564,352,959,272,463,521,320,211,796,248,733,645,577,372,118,406,547,217]\n"
   ]
  },
  {
   "cell_type": "code",
   "execution_count": 46,
   "metadata": {},
   "outputs": [],
   "source": [
    "type_list = ['abstract','introduction','discussion']\n",
    "for t in type_list:\n",
    "    if t=='abstract':\n",
    "        count_list = abs_list\n",
    "    elif t=='introduction':\n",
    "        count_list = intro_list\n",
    "    elif t=='discussion':\n",
    "        count_list = disc_list\n",
    "    for i in range(len(count_list)):\n",
    "        if i<15:\n",
    "            pd_dict['paper'].append('nmeth')\n",
    "        elif i==15:\n",
    "            pd_dict['paper'].append('SEAM_V1')\n",
    "        elif i==16:\n",
    "            pd_dict['paper'].append('SEAM_V2')\n",
    "        elif i==17:\n",
    "            pd_dict['paper'].append('SEAM_V3')\n",
    "        pd_dict['count'].append(count_list[i])\n",
    "        pd_dict['type'].append(t)"
   ]
  },
  {
   "cell_type": "code",
   "execution_count": 47,
   "metadata": {},
   "outputs": [],
   "source": [
    "pd_df = pd.DataFrame(pd_dict)"
   ]
  },
  {
   "cell_type": "code",
   "execution_count": 48,
   "metadata": {},
   "outputs": [],
   "source": [
    "import palettable\n",
    "mpl = palettable.colorbrewer.qualitative.Set1_3.mpl_colors\n",
    "mpl.insert(0,'k')"
   ]
  },
  {
   "cell_type": "code",
   "execution_count": 49,
   "metadata": {},
   "outputs": [
    {
     "data": {
      "text/plain": [
       "['k',\n",
       " (0.8941176470588236, 0.10196078431372549, 0.10980392156862745),\n",
       " (0.21568627450980393, 0.49411764705882355, 0.7215686274509804),\n",
       " (0.30196078431372547, 0.6862745098039216, 0.2901960784313726)]"
      ]
     },
     "execution_count": 49,
     "metadata": {},
     "output_type": "execute_result"
    }
   ],
   "source": [
    "mpl"
   ]
  },
  {
   "cell_type": "code",
   "execution_count": 50,
   "metadata": {},
   "outputs": [
    {
     "data": {
      "application/vnd.jupyter.widget-view+json": {
       "model_id": "5599d716ea094b1d90b521bc7ada7463",
       "version_major": 2,
       "version_minor": 0
      },
      "text/plain": [
       "Canvas(toolbar=Toolbar(toolitems=[('Home', 'Reset original view', 'home', 'home'), ('Back', 'Back to previous …"
      ]
     },
     "metadata": {},
     "output_type": "display_data"
    }
   ],
   "source": [
    "fig,ax = plt.subplots(1,1,figsize=(10,5))\n",
    "ax = sns.boxplot(x=\"count\", y=\"type\", data=pd_df, whis=np.inf,color='white')\n",
    "ax = sns.stripplot(x=\"count\", y=\"type\", data=pd_df, color=\".3\",hue='paper',palette=mpl)"
   ]
  },
  {
   "cell_type": "code",
   "execution_count": 10,
   "metadata": {},
   "outputs": [
    {
     "data": {
      "text/plain": [
       "2"
      ]
     },
     "execution_count": 10,
     "metadata": {},
     "output_type": "execute_result"
    }
   ],
   "source": [
    "1+1"
   ]
  },
  {
   "cell_type": "code",
   "execution_count": null,
   "metadata": {},
   "outputs": [],
   "source": []
  }
 ],
 "metadata": {
  "kernelspec": {
   "display_name": "Python (pytorch)",
   "language": "python",
   "name": "pytorch"
  },
  "language_info": {
   "codemirror_mode": {
    "name": "ipython",
    "version": 3
   },
   "file_extension": ".py",
   "mimetype": "text/x-python",
   "name": "python",
   "nbconvert_exporter": "python",
   "pygments_lexer": "ipython3",
   "version": "3.7.5"
  }
 },
 "nbformat": 4,
 "nbformat_minor": 4
}
