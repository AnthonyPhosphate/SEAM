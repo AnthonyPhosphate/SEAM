{
 "cells": [
  {
   "cell_type": "code",
   "execution_count": 130,
   "metadata": {},
   "outputs": [],
   "source": [
    "import scanpy as sc\n",
    "import numpy as np\n",
    "import scipy"
   ]
  },
  {
   "cell_type": "code",
   "execution_count": 2,
   "metadata": {},
   "outputs": [],
   "source": [
    "file_path = 'data/protein_MS/'"
   ]
  },
  {
   "cell_type": "code",
   "execution_count": 10,
   "metadata": {},
   "outputs": [],
   "source": [
    "cur_file = file_path+'sd04.xls'\n",
    "# sd04 = sc.read_excel(cur_file, sheet, dtype='float32')\n",
    "sd04 = sc.read_excel(cur_file, sheet = 'cluster_alldata(noduplicate)',dtype='float32')"
   ]
  },
  {
   "cell_type": "code",
   "execution_count": 12,
   "metadata": {},
   "outputs": [],
   "source": [
    "cur_file = file_path+'sd01.xls'\n",
    "\n",
    "sd01 = sc.read_excel(cur_file, sheet = 'detail ',dtype='str')"
   ]
  },
  {
   "cell_type": "code",
   "execution_count": 25,
   "metadata": {},
   "outputs": [
    {
     "data": {
      "text/plain": [
       "'b'"
      ]
     },
     "execution_count": 25,
     "metadata": {},
     "output_type": "execute_result"
    }
   ],
   "source": [
    "a = 'abcGene_Symbol=bbb'\n",
    "a.find('Gene_Symbol=')\n",
    "a[3+12]"
   ]
  },
  {
   "cell_type": "code",
   "execution_count": 28,
   "metadata": {},
   "outputs": [],
   "source": [
    "gene_list = []\n",
    "for obs in sd01.obs_names:\n",
    "    cur_desc = sd01[obs,'Description'].X\n",
    "    Gene_Symbol_pos = cur_desc.find('Gene_Symbol=')\n",
    "    if Gene_Symbol_pos==-1:\n",
    "        gene_list.append('-')\n",
    "        continue\n",
    "    gene_name_field = cur_desc.split(' ')[1]\n",
    "    gene_name = gene_name_field[12:]\n",
    "    gene_list.append(gene_name)\n",
    "#     tax_id_field,gene_symbol_field = cur_desc.split('')"
   ]
  },
  {
   "cell_type": "code",
   "execution_count": 31,
   "metadata": {},
   "outputs": [],
   "source": [
    "sd01.obs['gene_name'] = np.array(gene_list).astype('str')"
   ]
  },
  {
   "cell_type": "code",
   "execution_count": 43,
   "metadata": {},
   "outputs": [
    {
     "data": {
      "text/plain": [
       "4596"
      ]
     },
     "execution_count": 43,
     "metadata": {},
     "output_type": "execute_result"
    }
   ],
   "source": [
    "np.unique(sd01.obs['gene_name']).shape[0]"
   ]
  },
  {
   "cell_type": "code",
   "execution_count": 42,
   "metadata": {},
   "outputs": [
    {
     "data": {
      "text/plain": [
       "4596"
      ]
     },
     "execution_count": 42,
     "metadata": {},
     "output_type": "execute_result"
    }
   ],
   "source": [
    "sd04.shape[0]"
   ]
  },
  {
   "cell_type": "code",
   "execution_count": 37,
   "metadata": {},
   "outputs": [
    {
     "data": {
      "text/plain": [
       "View of AnnData object with n_obs × n_vars = 8095 × 14 \n",
       "    obs: 'gene_name'"
      ]
     },
     "execution_count": 37,
     "metadata": {},
     "output_type": "execute_result"
    }
   ],
   "source": [
    "sd01[sd01.obs['gene_name'].isin(sd04.obs_names)]"
   ]
  },
  {
   "cell_type": "code",
   "execution_count": 62,
   "metadata": {},
   "outputs": [],
   "source": [
    "def bulk_append(li):\n",
    "    GV_SeqCount_list.append(li[0])\n",
    "    GV_SpecCount_list.append(li[1])\n",
    "    GV_SeqCov_list.append(li[2]) \n",
    "    \n",
    "    MII_SeqCount_list.append(li[3])    \n",
    "    MII_SpecCount_list.append(li[4])    \n",
    "    MII_SeqCov_list.append(li[5]) \n",
    "    \n",
    "    ZYGOTE_SeqCount_list.append(li[6])    \n",
    "    ZYGOTE_SpecCount_list.append(li[7])    \n",
    "    ZYGOTE_SeqCov_list.append(li[8])    \n",
    "    "
   ]
  },
  {
   "cell_type": "code",
   "execution_count": 116,
   "metadata": {},
   "outputs": [
    {
     "name": "stderr",
     "output_type": "stream",
     "text": [
      "/home/yzy/anaconda3/envs/scaden/lib/python3.7/site-packages/anndata/core/anndata.py:846: FutureWarning: In anndata v0.7+, arrays contained within an AnnData object will maintain their dimensionality. For example, prior to v0.7 `adata[0, 0].X` returned a scalar and `adata[0, :]` returned a 1d array, post v0.7 they will return two dimensional arrays. If you would like to get a one dimensional array from your AnnData object, consider using the `adata.obs_vector`, `adata.var_vector` methods or accessing the array directly.\n",
      "  warn_flatten()\n"
     ]
    }
   ],
   "source": [
    "GV_SeqCount_list = []\n",
    "GV_SpecCount_list = []\n",
    "GV_SeqCov_list = []\n",
    "\n",
    "MII_SeqCount_list = []\n",
    "MII_SpecCount_list = []\n",
    "MII_SeqCov_list = []\n",
    "\n",
    "ZYGOTE_SeqCount_list = []\n",
    "ZYGOTE_SpecCount_list = []\n",
    "ZYGOTE_SeqCov_list = []\n",
    "\n",
    "\n",
    "for g in sd04.obs_names:\n",
    "    cur_join_flag = 1\n",
    "    cur_sd01 = sd01[sd01.obs['gene_name']==g]\n",
    "    if cur_sd01.shape[0]==0:\n",
    "        cur_join_flag = 0\n",
    "        cur_profile = np.zeros(shape=(9,))\n",
    "    elif cur_sd01.shape[0]==1:\n",
    "        cur_profile = np.array(sd01[sd01.obs['gene_name']==g,:][:,int_var_names].X).astype('float') \n",
    "    else:\n",
    "        cur_profile_mat = np.array(sd01[sd01.obs['gene_name']==g,:][:,int_var_names].X).astype('float')\n",
    "        cur_profile = np.sum(cur_profile_mat,axis=0)\n",
    "    cur_profile = np.array(cur_profile)\n",
    "    cur_profile[np.isnan(cur_profile)]=0\n",
    "    \n",
    "    bulk_append(cur_profile)\n",
    "    \n",
    "# sd04.obs['GV_SeqCount'] = np.array(GV_SeqCount_list)"
   ]
  },
  {
   "cell_type": "code",
   "execution_count": 143,
   "metadata": {},
   "outputs": [],
   "source": [
    "del sd04.obs['GV_SeqCount']"
   ]
  },
  {
   "cell_type": "code",
   "execution_count": 122,
   "metadata": {},
   "outputs": [],
   "source": [
    "sd04.obs['GV_SeqCount_list'] = np.array(GV_SeqCount_list)\n",
    "sd04.obs['GV_SpecCount_list'] = np.array(GV_SpecCount_list)\n",
    "sd04.obs['GV_SeqCov_list'] = np.array(GV_SeqCov_list)\n",
    "\n",
    "sd04.obs['MII_SeqCount_list'] = np.array(MII_SeqCount_list)\n",
    "sd04.obs['MII_SpecCount_list'] = np.array(MII_SpecCount_list)\n",
    "sd04.obs['MII_SeqCov_list'] = np.array(MII_SeqCov_list)\n",
    "\n",
    "sd04.obs['ZYGOTE_SeqCount_list'] = np.array(ZYGOTE_SeqCount_list)\n",
    "sd04.obs['ZYGOTE_SpecCount_list'] = np.array(ZYGOTE_SpecCount_list)\n",
    "sd04.obs['ZYGOTE_SeqCov_list'] = np.array(ZYGOTE_SeqCov_list)"
   ]
  },
  {
   "cell_type": "code",
   "execution_count": 125,
   "metadata": {},
   "outputs": [
    {
     "name": "stderr",
     "output_type": "stream",
     "text": [
      "/home/yzy/anaconda3/envs/scaden/lib/python3.7/site-packages/anndata/core/anndata.py:846: FutureWarning: In anndata v0.7+, arrays contained within an AnnData object will maintain their dimensionality. For example, prior to v0.7 `adata[0, 0].X` returned a scalar and `adata[0, :]` returned a 1d array, post v0.7 they will return two dimensional arrays. If you would like to get a one dimensional array from your AnnData object, consider using the `adata.obs_vector`, `adata.var_vector` methods or accessing the array directly.\n",
      "  warn_flatten()\n"
     ]
    },
    {
     "data": {
      "text/plain": [
       "ArrayView([ 0.447826, -0.053702,  0.053702, -7.671587], dtype=float32)"
      ]
     },
     "execution_count": 125,
     "metadata": {},
     "output_type": "execute_result"
    }
   ],
   "source": [
    "sd04['Ldhb'].X"
   ]
  },
  {
   "cell_type": "code",
   "execution_count": 135,
   "metadata": {},
   "outputs": [],
   "source": [
    "tmp = (sd04['Ldhb'].obs['GV_SeqCount_list'][0],sd04['Ldhb'].obs['GV_SpecCount_list'][0],sd04['Ldhb'].obs['GV_SeqCov_list'][0])"
   ]
  },
  {
   "cell_type": "code",
   "execution_count": 159,
   "metadata": {},
   "outputs": [
    {
     "name": "stderr",
     "output_type": "stream",
     "text": [
      "/home/yzy/anaconda3/envs/scaden/lib/python3.7/site-packages/anndata/core/anndata.py:846: FutureWarning: In anndata v0.7+, arrays contained within an AnnData object will maintain their dimensionality. For example, prior to v0.7 `adata[0, 0].X` returned a scalar and `adata[0, :]` returned a 1d array, post v0.7 they will return two dimensional arrays. If you would like to get a one dimensional array from your AnnData object, consider using the `adata.obs_vector`, `adata.var_vector` methods or accessing the array directly.\n",
      "  warn_flatten()\n"
     ]
    }
   ],
   "source": [
    "cur_gene = 'Ldhb'\n",
    "sd04_key_idx = np.array(sd04.obs_keys())\n",
    "hdhb_processed = np.array(sd04[cur_gene].X)[0:3]\n",
    "hdhb_SeqCount = [sd04[cur_gene].obs[k][0] for k in sd04_key_idx[[0,3,6]]]\n",
    "hdhb_SpecCount = [sd04[cur_gene].obs[k][0] for k in sd04_key_idx[[1,4,7]]]\n",
    "hdhb_SeqCov = [sd04[cur_gene].obs[k][0] for k in sd04_key_idx[[2,5,8]]]"
   ]
  },
  {
   "cell_type": "code",
   "execution_count": 165,
   "metadata": {},
   "outputs": [
    {
     "data": {
      "text/plain": [
       "(0.9471218832588117, 0.20795322537635802)"
      ]
     },
     "execution_count": 165,
     "metadata": {},
     "output_type": "execute_result"
    }
   ],
   "source": [
    "scipy.stats.pearsonr(hdhb_processed,hdhb_SeqCount)"
   ]
  },
  {
   "cell_type": "code",
   "execution_count": 166,
   "metadata": {},
   "outputs": [
    {
     "data": {
      "text/plain": [
       "(0.9995763121258072, 0.018532477143759857)"
      ]
     },
     "execution_count": 166,
     "metadata": {},
     "output_type": "execute_result"
    }
   ],
   "source": [
    "scipy.stats.pearsonr(hdhb_processed,hdhb_SpecCount)"
   ]
  },
  {
   "cell_type": "code",
   "execution_count": 167,
   "metadata": {},
   "outputs": [
    {
     "data": {
      "text/plain": [
       "(-0.5323480460592066, 0.64261954949176)"
      ]
     },
     "execution_count": 167,
     "metadata": {},
     "output_type": "execute_result"
    }
   ],
   "source": [
    "scipy.stats.pearsonr(hdhb_processed,hdhb_SeqCov)"
   ]
  },
  {
   "cell_type": "code",
   "execution_count": 74,
   "metadata": {},
   "outputs": [],
   "source": [
    "int_var_names = ['GV SeqCount','GV SpecCount','GV SeqCov',\n",
    "                 'MII SeqCount','MII SpecCount','MII SeqCov',\n",
    "                'ZYGOTE SeqCount','ZYGOTE SpecCount','ZYGOTE SeqCov']\n",
    "t = sd01[sd01.obs['gene_name']=='Macf1',:][:,int_var_names].X\n",
    "# for ob"
   ]
  },
  {
   "cell_type": "code",
   "execution_count": 81,
   "metadata": {},
   "outputs": [],
   "source": [
    "t_np = np.array(t).astype('float')\n",
    "t_mid = np.sum(t_np,axis=0)"
   ]
  },
  {
   "cell_type": "code",
   "execution_count": 83,
   "metadata": {},
   "outputs": [
    {
     "data": {
      "text/plain": [
       "(9,)"
      ]
     },
     "execution_count": 83,
     "metadata": {},
     "output_type": "execute_result"
    }
   ],
   "source": [
    "t_mid.shape"
   ]
  },
  {
   "cell_type": "code",
   "execution_count": 67,
   "metadata": {},
   "outputs": [
    {
     "ename": "TypeError",
     "evalue": "unsupported operand type(s) for /: 'AnnData' and 'int'",
     "output_type": "error",
     "traceback": [
      "\u001b[0;31m---------------------------------------------------------------------------\u001b[0m",
      "\u001b[0;31mTypeError\u001b[0m                                 Traceback (most recent call last)",
      "\u001b[0;32m<ipython-input-67-91beddce5383>\u001b[0m in \u001b[0;36m<module>\u001b[0;34m\u001b[0m\n\u001b[1;32m      1\u001b[0m \u001b[0mt_np\u001b[0m \u001b[0;34m=\u001b[0m \u001b[0mnp\u001b[0m\u001b[0;34m.\u001b[0m\u001b[0marray\u001b[0m\u001b[0;34m(\u001b[0m\u001b[0mt\u001b[0m\u001b[0;34m)\u001b[0m\u001b[0;34m\u001b[0m\u001b[0;34m\u001b[0m\u001b[0m\n\u001b[0;32m----> 2\u001b[0;31m \u001b[0mnp\u001b[0m\u001b[0;34m.\u001b[0m\u001b[0mmedian\u001b[0m\u001b[0;34m(\u001b[0m\u001b[0mt_np\u001b[0m\u001b[0;34m)\u001b[0m\u001b[0;34m\u001b[0m\u001b[0;34m\u001b[0m\u001b[0m\n\u001b[0m",
      "\u001b[0;32m~/.local/lib/python3.7/site-packages/numpy/lib/function_base.py\u001b[0m in \u001b[0;36mmedian\u001b[0;34m(a, axis, out, overwrite_input, keepdims)\u001b[0m\n\u001b[1;32m   3495\u001b[0m     \"\"\"\n\u001b[1;32m   3496\u001b[0m     r, k = _ureduce(a, func=_median, axis=axis, out=out,\n\u001b[0;32m-> 3497\u001b[0;31m                     overwrite_input=overwrite_input)\n\u001b[0m\u001b[1;32m   3498\u001b[0m     \u001b[0;32mif\u001b[0m \u001b[0mkeepdims\u001b[0m\u001b[0;34m:\u001b[0m\u001b[0;34m\u001b[0m\u001b[0;34m\u001b[0m\u001b[0m\n\u001b[1;32m   3499\u001b[0m         \u001b[0;32mreturn\u001b[0m \u001b[0mr\u001b[0m\u001b[0;34m.\u001b[0m\u001b[0mreshape\u001b[0m\u001b[0;34m(\u001b[0m\u001b[0mk\u001b[0m\u001b[0;34m)\u001b[0m\u001b[0;34m\u001b[0m\u001b[0;34m\u001b[0m\u001b[0m\n",
      "\u001b[0;32m~/.local/lib/python3.7/site-packages/numpy/lib/function_base.py\u001b[0m in \u001b[0;36m_ureduce\u001b[0;34m(a, func, **kwargs)\u001b[0m\n\u001b[1;32m   3403\u001b[0m         \u001b[0mkeepdim\u001b[0m \u001b[0;34m=\u001b[0m \u001b[0;34m(\u001b[0m\u001b[0;36m1\u001b[0m\u001b[0;34m,\u001b[0m\u001b[0;34m)\u001b[0m \u001b[0;34m*\u001b[0m \u001b[0ma\u001b[0m\u001b[0;34m.\u001b[0m\u001b[0mndim\u001b[0m\u001b[0;34m\u001b[0m\u001b[0;34m\u001b[0m\u001b[0m\n\u001b[1;32m   3404\u001b[0m \u001b[0;34m\u001b[0m\u001b[0m\n\u001b[0;32m-> 3405\u001b[0;31m     \u001b[0mr\u001b[0m \u001b[0;34m=\u001b[0m \u001b[0mfunc\u001b[0m\u001b[0;34m(\u001b[0m\u001b[0ma\u001b[0m\u001b[0;34m,\u001b[0m \u001b[0;34m**\u001b[0m\u001b[0mkwargs\u001b[0m\u001b[0;34m)\u001b[0m\u001b[0;34m\u001b[0m\u001b[0;34m\u001b[0m\u001b[0m\n\u001b[0m\u001b[1;32m   3406\u001b[0m     \u001b[0;32mreturn\u001b[0m \u001b[0mr\u001b[0m\u001b[0;34m,\u001b[0m \u001b[0mkeepdim\u001b[0m\u001b[0;34m\u001b[0m\u001b[0;34m\u001b[0m\u001b[0m\n\u001b[1;32m   3407\u001b[0m \u001b[0;34m\u001b[0m\u001b[0m\n",
      "\u001b[0;32m~/.local/lib/python3.7/site-packages/numpy/lib/function_base.py\u001b[0m in \u001b[0;36m_median\u001b[0;34m(a, axis, out, overwrite_input)\u001b[0m\n\u001b[1;32m   3554\u001b[0m         \u001b[0;31m# Use mean in odd and even case to coerce data type\u001b[0m\u001b[0;34m\u001b[0m\u001b[0;34m\u001b[0m\u001b[0;34m\u001b[0m\u001b[0m\n\u001b[1;32m   3555\u001b[0m         \u001b[0;31m# and check, use out array.\u001b[0m\u001b[0;34m\u001b[0m\u001b[0;34m\u001b[0m\u001b[0;34m\u001b[0m\u001b[0m\n\u001b[0;32m-> 3556\u001b[0;31m         \u001b[0;32mreturn\u001b[0m \u001b[0mmean\u001b[0m\u001b[0;34m(\u001b[0m\u001b[0mpart\u001b[0m\u001b[0;34m[\u001b[0m\u001b[0mindexer\u001b[0m\u001b[0;34m]\u001b[0m\u001b[0;34m,\u001b[0m \u001b[0maxis\u001b[0m\u001b[0;34m=\u001b[0m\u001b[0maxis\u001b[0m\u001b[0;34m,\u001b[0m \u001b[0mout\u001b[0m\u001b[0;34m=\u001b[0m\u001b[0mout\u001b[0m\u001b[0;34m)\u001b[0m\u001b[0;34m\u001b[0m\u001b[0;34m\u001b[0m\u001b[0m\n\u001b[0m\u001b[1;32m   3557\u001b[0m \u001b[0;34m\u001b[0m\u001b[0m\n\u001b[1;32m   3558\u001b[0m \u001b[0;34m\u001b[0m\u001b[0m\n",
      "\u001b[0;32m~/.local/lib/python3.7/site-packages/numpy/core/fromnumeric.py\u001b[0m in \u001b[0;36mmean\u001b[0;34m(a, axis, dtype, out, keepdims)\u001b[0m\n\u001b[1;32m   3116\u001b[0m \u001b[0;34m\u001b[0m\u001b[0m\n\u001b[1;32m   3117\u001b[0m     return _methods._mean(a, axis=axis, dtype=dtype,\n\u001b[0;32m-> 3118\u001b[0;31m                           out=out, **kwargs)\n\u001b[0m\u001b[1;32m   3119\u001b[0m \u001b[0;34m\u001b[0m\u001b[0m\n\u001b[1;32m   3120\u001b[0m \u001b[0;34m\u001b[0m\u001b[0m\n",
      "\u001b[0;32m~/.local/lib/python3.7/site-packages/numpy/core/_methods.py\u001b[0m in \u001b[0;36m_mean\u001b[0;34m(a, axis, dtype, out, keepdims)\u001b[0m\n\u001b[1;32m     85\u001b[0m             \u001b[0mret\u001b[0m \u001b[0;34m=\u001b[0m \u001b[0mret\u001b[0m\u001b[0;34m.\u001b[0m\u001b[0mdtype\u001b[0m\u001b[0;34m.\u001b[0m\u001b[0mtype\u001b[0m\u001b[0;34m(\u001b[0m\u001b[0mret\u001b[0m \u001b[0;34m/\u001b[0m \u001b[0mrcount\u001b[0m\u001b[0;34m)\u001b[0m\u001b[0;34m\u001b[0m\u001b[0;34m\u001b[0m\u001b[0m\n\u001b[1;32m     86\u001b[0m     \u001b[0;32melse\u001b[0m\u001b[0;34m:\u001b[0m\u001b[0;34m\u001b[0m\u001b[0;34m\u001b[0m\u001b[0m\n\u001b[0;32m---> 87\u001b[0;31m         \u001b[0mret\u001b[0m \u001b[0;34m=\u001b[0m \u001b[0mret\u001b[0m \u001b[0;34m/\u001b[0m \u001b[0mrcount\u001b[0m\u001b[0;34m\u001b[0m\u001b[0;34m\u001b[0m\u001b[0m\n\u001b[0m\u001b[1;32m     88\u001b[0m \u001b[0;34m\u001b[0m\u001b[0m\n\u001b[1;32m     89\u001b[0m     \u001b[0;32mreturn\u001b[0m \u001b[0mret\u001b[0m\u001b[0;34m\u001b[0m\u001b[0;34m\u001b[0m\u001b[0m\n",
      "\u001b[0;31mTypeError\u001b[0m: unsupported operand type(s) for /: 'AnnData' and 'int'"
     ]
    }
   ],
   "source": [
    "t_np = np.array(t)\n",
    "np.median(t_np)"
   ]
  },
  {
   "cell_type": "code",
   "execution_count": 63,
   "metadata": {},
   "outputs": [
    {
     "data": {
      "text/plain": [
       "IPI00229510.5                                        Ldhb\n",
       "IPI00130589.8                                        Sod1\n",
       "IPI00331163.9                                       Skp1a\n",
       "IPI00313962.3                                       Uchl1\n",
       "IPI00113203.4                                       Cox17\n",
       "IPI00123639.1                                        Calr\n",
       "IPI00230034.5                                         Ddt\n",
       "IPI00111218.1                                       Aldh2\n",
       "IPI00224740.6                                        Pfn1\n",
       "IPI00136703.1                                         Ckb\n",
       "IPI00115215.1                                        Tpmt\n",
       "IPI00881105.1                                      Gnpda2\n",
       "IPI00850779.1                                   100040109\n",
       "IPI00116498.1                                       Ywhaz\n",
       "IPI00323357.3                                       Hspa8\n",
       "IPI00117264.1                                       Park7\n",
       "IPI00895414.1                                           -\n",
       "IPI00407130.4                                        Pkm2\n",
       "IPI00890117.1                                        Cfl1\n",
       "IPI00845840.1                                        Pkm2\n",
       "IPI00228385.5                                       G6pdx\n",
       "IPI00131224.1                                       Tceb2\n",
       "IPI00130200.6                                       Uhrf1\n",
       "IPI00221402.7                                       Aldoa\n",
       "IPI00856379.1                                       Aldoa\n",
       "IPI00137730.7                                       Pebp1\n",
       "SW:K1CI_HUMAN                                           -\n",
       "IPI00108189.4                                       Hint1\n",
       "IPI00315808.3                                      Mrps36\n",
       "IPI00319652.2                                        Gpx1\n",
       "                                                ...      \n",
       "IPI00408909.4                                      Mtap1a\n",
       "IPI00676243.2                                      Mtap1a\n",
       "IPI00406603.4                                          F5\n",
       "IPI00848422.1                                LOC100048143\n",
       "IPI00108978.4                                     Prkcbp1\n",
       "IPI00755303.1                                     Prkcbp1\n",
       "IPI00625016.2                                     Prkcbp1\n",
       "IPI00468179.3                                     Prkcbp1\n",
       "Reverse_IPI:IPI00229613.3|SWISS-PROT:Q9Q            Macf1\n",
       "Reverse_IPI:IPI00890208.1|SWISS-PROT:Q9Q            Macf1\n",
       "Reverse_IPI:IPI00889893.1|TREMBL:B1ARU6|            Macf1\n",
       "Reverse_IPI:IPI00889213.1|SWISS-PROT:Q9Q            Macf1\n",
       "Reverse_IPI:IPI00884482.3|TREMBL:B1ARU4;            Macf1\n",
       "Reverse_IPI:IPI00849006.2|TREMBL:B1ARU2;            Macf1\n",
       "Reverse_IPI:IPI00848566.1|TREMBL:B1ART6;            Macf1\n",
       "Reverse_IPI:IPI00405977.6|TREMBL:B1ARU5;            Macf1\n",
       "IPI00753321.2                               A230054D04Rik\n",
       "Reverse_IPI:IPI00229904.3|SWISS-PROT:Q8C            Trpm6\n",
       "Reverse_IPI:IPI00875207.1|ENSEMBL:ENSMUS            Trpm6\n",
       "IPI00553798.2                                       Ahnak\n",
       "IPI00855153.1                                   LOC674334\n",
       "IPI00855193.1                                    EG666713\n",
       "IPI00229651.6                                        Wbp7\n",
       "IPI00881005.1                                        Wbp7\n",
       "IPI00857289.1                                        Wbp7\n",
       "IPI00119063.2                                        Lrp1\n",
       "IPI00116913.3                                       Lama5\n",
       "IPI00676957.3                                       Lama5\n",
       "IPI00624079.4                                       Lama5\n",
       "nan                                                     -\n",
       "Name: gene_name, Length: 8115, dtype: object"
      ]
     },
     "execution_count": 63,
     "metadata": {},
     "output_type": "execute_result"
    }
   ],
   "source": [
    "sd01.obs['gene_name']"
   ]
  },
  {
   "cell_type": "code",
   "execution_count": null,
   "metadata": {},
   "outputs": [],
   "source": []
  }
 ],
 "metadata": {
  "kernelspec": {
   "display_name": "Python (scaden)",
   "language": "python",
   "name": "scaden"
  },
  "language_info": {
   "codemirror_mode": {
    "name": "ipython",
    "version": 3
   },
   "file_extension": ".py",
   "mimetype": "text/x-python",
   "name": "python",
   "nbconvert_exporter": "python",
   "pygments_lexer": "ipython3",
   "version": "3.7.5"
  }
 },
 "nbformat": 4,
 "nbformat_minor": 4
}
